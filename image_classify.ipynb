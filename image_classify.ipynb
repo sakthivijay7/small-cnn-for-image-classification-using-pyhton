{
 "cells": [
  {
   "cell_type": "markdown",
   "id": "95f8fd9f",
   "metadata": {},
   "source": [
    "Importing Libraries\n"
   ]
  },
  {
   "cell_type": "code",
   "execution_count": 125,
   "id": "b920e0bf",
   "metadata": {},
   "outputs": [],
   "source": [
    "from tensorflow.keras.preprocessing.image import ImageDataGenerator,load_img,img_to_array\n",
    "from keras.models import Sequential\n",
    "from keras.layers import Conv2D,MaxPooling2D,Flatten,Dense,Dropout\n",
    "from keras.callbacks import EarlyStopping"
   ]
  },
  {
   "cell_type": "markdown",
   "id": "5464b647",
   "metadata": {},
   "source": [
    "Image_data Path,Size\n"
   ]
  },
  {
   "cell_type": "code",
   "execution_count": 126,
   "id": "51a406bb",
   "metadata": {},
   "outputs": [],
   "source": [
    "train_images=r\"D:\\ALL\\DL\\datasets\\train_image\"\n",
    "test_images=r\"D:\\ALL\\DL\\datasets\\test_image\"\n",
    "images_size=(224,224)\n",
    "batch_size=16"
   ]
  },
  {
   "cell_type": "markdown",
   "id": "e973212c",
   "metadata": {},
   "source": [
    "Images preprocessing\n"
   ]
  },
  {
   "cell_type": "code",
   "execution_count": 127,
   "id": "1a9a9837",
   "metadata": {},
   "outputs": [],
   "source": [
    "data_gen=ImageDataGenerator(rescale=1./255,\n",
    "                             rotation_range=30,\n",
    "                             width_shift_range=0.2,height_shift_range=0.2,\n",
    "                             zoom_range=0.3,\n",
    "                             brightness_range=[0.2,1.5],\n",
    "                             horizontal_flip=True,\n",
    "                             validation_split=0.2)                                                        "
   ]
  },
  {
   "cell_type": "markdown",
   "id": "ac972035",
   "metadata": {},
   "source": [
    "Read the training_data\n"
   ]
  },
  {
   "cell_type": "code",
   "execution_count": 128,
   "id": "b143647f",
   "metadata": {},
   "outputs": [
    {
     "name": "stdout",
     "output_type": "stream",
     "text": [
      "Found 64 images belonging to 2 classes.\n",
      "{'ironman': 0, 'ultron': 1}\n",
      "64\n"
     ]
    }
   ],
   "source": [
    "train_data=data_gen.flow_from_directory(train_images,\n",
    "                                       target_size=images_size,\n",
    "                                       batch_size=batch_size,\n",
    "                                       class_mode=\"binary\",\n",
    "                                       subset=\"training\")\n",
    "print(train_data.class_indices)  \n",
    "print(train_data.samples)                                     "
   ]
  },
  {
   "cell_type": "markdown",
   "id": "65867f29",
   "metadata": {},
   "source": [
    "Read validation_data\n"
   ]
  },
  {
   "cell_type": "code",
   "execution_count": 130,
   "id": "729d4ffb",
   "metadata": {},
   "outputs": [
    {
     "name": "stdout",
     "output_type": "stream",
     "text": [
      "Found 15 images belonging to 2 classes.\n",
      "{'ironman': 0, 'ultron': 1}\n",
      "15\n"
     ]
    }
   ],
   "source": [
    "val_data=data_gen.flow_from_directory(train_images,\n",
    "                                             target_size=images_size,\n",
    "                                             batch_size=batch_size,\n",
    "                                             class_mode=\"binary\",\n",
    "                                             subset=\"validation\")\n",
    "print(val_data.class_indices)  \n",
    "print(val_data.samples)                                           "
   ]
  },
  {
   "cell_type": "markdown",
   "id": "dbc7d874",
   "metadata": {},
   "source": [
    "Convalution Neural Network\n"
   ]
  },
  {
   "cell_type": "code",
   "execution_count": 136,
   "id": "02c73489",
   "metadata": {},
   "outputs": [],
   "source": [
    "model=Sequential([#input layer\n",
    "     Conv2D(32,(3,3),input_shape=(images_size[0],images_size[1],3),activation=\"relu\"), \n",
    "     MaxPooling2D(2,2),\n",
    "\n",
    "     #Hidden Layer\n",
    "     Conv2D(64,(3,3),activation=\"relu\"), \n",
    "     MaxPooling2D(2,2),\n",
    "     Flatten(),\n",
    "     Dense(32,activation=\"relu\"),\n",
    "     Dropout(0.5),\n",
    "     \n",
    "     #output layer\n",
    "     Dense(1,activation=\"sigmoid\")  \n",
    "])"
   ]
  },
  {
   "cell_type": "markdown",
   "id": "061d26d6",
   "metadata": {},
   "source": [
    "Compile the Model\n"
   ]
  },
  {
   "cell_type": "code",
   "execution_count": 137,
   "id": "67a8aea9",
   "metadata": {},
   "outputs": [],
   "source": [
    "model.compile(optimizer=\"adam\",               #Adaptive Moment Estimation algorithm\n",
    "            loss=\"binary_crossentropy\",\n",
    "            metrics=[\"accuracy\"])"
   ]
  },
  {
   "cell_type": "markdown",
   "id": "55bc7305",
   "metadata": {},
   "source": [
    "Early stopping to prevent overfitting\n"
   ]
  },
  {
   "cell_type": "code",
   "execution_count": 138,
   "id": "7f4731a7",
   "metadata": {},
   "outputs": [],
   "source": [
    "early=EarlyStopping(monitor=\"val_loss\",\n",
    "                     patience=3,    #Wait for 3 epochs\n",
    "                     restore_best_weights=True)"
   ]
  },
  {
   "cell_type": "markdown",
   "id": "2e88abf4",
   "metadata": {},
   "source": [
    "Trainning\n"
   ]
  },
  {
   "cell_type": "code",
   "execution_count": 139,
   "id": "101c29d9",
   "metadata": {},
   "outputs": [
    {
     "name": "stdout",
     "output_type": "stream",
     "text": [
      "Epoch 1/10\n",
      "4/4 [==============================] - 27s 6s/step - loss: 1.8086 - accuracy: 0.4844 - val_loss: 0.9224 - val_accuracy: 0.4667\n",
      "Epoch 2/10\n",
      "4/4 [==============================] - 16s 4s/step - loss: 0.7848 - accuracy: 0.5156 - val_loss: 0.6078 - val_accuracy: 0.5333\n",
      "Epoch 3/10\n",
      "4/4 [==============================] - 16s 4s/step - loss: 0.6116 - accuracy: 0.6250 - val_loss: 0.4864 - val_accuracy: 0.8000\n",
      "Epoch 4/10\n",
      "4/4 [==============================] - 16s 4s/step - loss: 0.6030 - accuracy: 0.7500 - val_loss: 0.3892 - val_accuracy: 1.0000\n",
      "Epoch 5/10\n",
      "4/4 [==============================] - 15s 4s/step - loss: 0.4476 - accuracy: 0.8594 - val_loss: 0.3529 - val_accuracy: 0.8667\n",
      "Epoch 6/10\n",
      "4/4 [==============================] - 15s 3s/step - loss: 0.3800 - accuracy: 0.8281 - val_loss: 0.1709 - val_accuracy: 1.0000\n",
      "Epoch 7/10\n",
      "4/4 [==============================] - 14s 4s/step - loss: 0.4257 - accuracy: 0.8281 - val_loss: 0.1065 - val_accuracy: 1.0000\n",
      "Epoch 8/10\n",
      "4/4 [==============================] - 14s 3s/step - loss: 0.3501 - accuracy: 0.8906 - val_loss: 0.1454 - val_accuracy: 1.0000\n",
      "Epoch 9/10\n",
      "4/4 [==============================] - 15s 4s/step - loss: 0.3758 - accuracy: 0.9062 - val_loss: 0.1114 - val_accuracy: 1.0000\n",
      "Epoch 10/10\n",
      "4/4 [==============================] - 14s 3s/step - loss: 0.2626 - accuracy: 0.9219 - val_loss: 0.0675 - val_accuracy: 1.0000\n"
     ]
    }
   ],
   "source": [
    "training=model.fit(train_data,\n",
    "                    validation_data=val_data,\n",
    "                    epochs=10,\n",
    "                    validation_steps=1,\n",
    "                    callbacks=[early])\n",
    "model.save(\"trained_model.h5\")                    "
   ]
  },
  {
   "cell_type": "code",
   "execution_count": 140,
   "id": "e238f01b",
   "metadata": {},
   "outputs": [
    {
     "name": "stdout",
     "output_type": "stream",
     "text": [
      "Model: \"sequential_2\"\n",
      "_________________________________________________________________\n",
      " Layer (type)                Output Shape              Param #   \n",
      "=================================================================\n",
      " conv2d_6 (Conv2D)           (None, 222, 222, 32)      896       \n",
      "                                                                 \n",
      " max_pooling2d_6 (MaxPooling  (None, 111, 111, 32)     0         \n",
      " 2D)                                                             \n",
      "                                                                 \n",
      " conv2d_7 (Conv2D)           (None, 109, 109, 64)      18496     \n",
      "                                                                 \n",
      " max_pooling2d_7 (MaxPooling  (None, 54, 54, 64)       0         \n",
      " 2D)                                                             \n",
      "                                                                 \n",
      " flatten_3 (Flatten)         (None, 186624)            0         \n",
      "                                                                 \n",
      " dense_5 (Dense)             (None, 32)                5972000   \n",
      "                                                                 \n",
      " dropout_1 (Dropout)         (None, 32)                0         \n",
      "                                                                 \n",
      " dense_6 (Dense)             (None, 1)                 33        \n",
      "                                                                 \n",
      "=================================================================\n",
      "Total params: 5,991,425\n",
      "Trainable params: 5,991,425\n",
      "Non-trainable params: 0\n",
      "_________________________________________________________________\n"
     ]
    }
   ],
   "source": [
    "model.summary() \n"
   ]
  },
  {
   "cell_type": "code",
   "execution_count": 141,
   "id": "39e8067f",
   "metadata": {},
   "outputs": [
    {
     "data": {
      "image/png": "[encoded data removed]",
      "text/plain": [
       "<Figure size 640x480 with 1 Axes>"
      ]
     },
     "metadata": {},
     "output_type": "display_data"
    }
   ],
   "source": [
    "import matplotlib.pyplot as plt\n",
    "plt.plot(training.history[\"accuracy\"],label=\"accuracy\")\n",
    "plt.plot(training.history[\"val_accuracy\"],label=\"val_accuracy\")\n",
    "plt.xlabel(\"Epochs\")\n",
    "plt.ylabel(\"Accuracy\")\n",
    "plt.legend()\n",
    "plt.show()"
   ]
  },
  {
   "cell_type": "markdown",
   "id": "73af4214",
   "metadata": {},
   "source": [
    "Input of image and covert predict form\n"
   ]
  },
  {
   "cell_type": "code",
   "execution_count": 167,
   "id": "f6291cb6",
   "metadata": {},
   "outputs": [],
   "source": [
    "import numpy as np\n",
    "img_path=r\"D:\\ALL\\DL\\predict\\images.jfif\"\n",
    "\n",
    "image=load_img(img_path,target_size=(224,224))\n",
    "img_array=img_to_array(image)/255.0\n",
    "\n",
    "fit_img=np.expand_dims(img_array,axis=0) #Expand duplicate dimensions(1,224,244,3)"
   ]
  },
  {
   "cell_type": "markdown",
   "id": "40fc2f2f",
   "metadata": {},
   "source": [
    "Prediction\n"
   ]
  },
  {
   "cell_type": "code",
   "execution_count": 168,
   "id": "2e4eb802",
   "metadata": {},
   "outputs": [
    {
     "name": "stdout",
     "output_type": "stream",
     "text": [
      "1/1 [==============================] - 0s 177ms/step\n",
      "Ironman\n"
     ]
    }
   ],
   "source": [
    "prediction=model.predict(fit_img)\n",
    "\n",
    "if prediction[0][0]>0.5:\n",
    "    print(\"Ultron\")\n",
    "elif prediction[0][0]<0.5:\n",
    "    print(\"Ironman\")\n",
    "else:\n",
    "    print(\"Unknown\")    "
   ]
  }
 ],
 "metadata": {
  "kernelspec": {
   "display_name": "Python 3",
   "language": "python",
   "name": "python3"
  },
  "language_info": {
   "codemirror_mode": {
    "name": "ipython",
    "version": 3
   },
   "file_extension": ".py",
   "mimetype": "text/x-python",
   "name": "python",
   "nbconvert_exporter": "python",
   "pygments_lexer": "ipython3",
   "version": "3.9.6"
  }
 },
 "nbformat": 4,
 "nbformat_minor": 5
}
